{
 "cells": [
  {
   "cell_type": "markdown",
   "metadata": {},
   "source": [
    "<h1> MODERN PORTFOLIO </h1>"
   ]
  },
  {
   "cell_type": "code",
   "execution_count": 1,
   "metadata": {},
   "outputs": [],
   "source": [
    "import numpy as np\n",
    "import pandas as pd\n",
    "import matplotlib.pyplot as plt\n"
   ]
  },
  {
   "cell_type": "code",
   "execution_count": 2,
   "metadata": {},
   "outputs": [],
   "source": [
    "def getDataset(filename):\n",
    "    df=pd.read_csv(filename,parse_dates=['Date'])\n",
    "    return df\n",
    "def Calculate_DailyReturns(dataframe):\n",
    "    mean_daily_returns=dataframe['Close Price'].pct_change().dropna().mean()\n",
    "    std_daily_returns=dataframe['Close Price'].pct_change().dropna().std()\n",
    "    return mean_daily_returns,std_daily_returns\n",
    "def Calculate_annualReturns(mean_daily_returns,std_daily_returns):\n",
    "    annual_mean=mean_daily_returns*252\n",
    "    annual_std=std_daily_returns*np.sqrt(252)\n",
    "    return annual_mean,annual_std\n",
    "def display_portfolio(filename,name,cap):\n",
    "    df=getDataset(filename)\n",
    "    mean_daily_returns,std_daily_returns=Calculate_DailyReturns(df)\n",
    "    annual_mean,annual_std=Calculate_annualReturns(mean_daily_returns,std_daily_returns)\n",
    "    portfolio_df = pd.DataFrame([{\"Name\" : name, \"Cap\" : cap, \n",
    "             \"meanDailyReturn\" : mean_daily_returns, \"meanDailySTD\" : std_daily_returns,\n",
    "             \"meanAnnualReturn\" : annual_mean, \"meanAnnualSTD\" : annual_std}])\n",
    "    portfolio_df.set_index(portfolio_df.Name, inplace = True, drop = False)\n",
    "    return portfolio_df\n",
    "#display_portfolio('INFY.csv','INFY','LARGE-CAP')"
   ]
  },
  {
   "cell_type": "markdown",
   "metadata": {},
   "source": [
    " <b>For your chosen stock, calculate the mean daily return and daily standard deviation of returns, and then just annualise them to get mean expected annual return and volatility of that single stock. ( annual mean = daily mean * 252 , annual stdev = daily stdev * sqrt(252) )</b>"
   ]
  },
  {
   "cell_type": "code",
   "execution_count": 3,
   "metadata": {},
   "outputs": [
    {
     "name": "stdout",
     "output_type": "stream",
     "text": [
      "mean daily returns:  -9.333949271498724e-05\n",
      "StandardDeviation:  0.02634062922421401\n",
      "Annual Mean:  -0.023521552164176784\n",
      "Annual Standard Deviation:  0.4181445258253829\n"
     ]
    }
   ],
   "source": [
    "df_infy=getDataset('INFY.csv')\n",
    "mean_daily_returns,std_daily_returns=Calculate_DailyReturns(df_infy)\n",
    "annual_mean,annual_std=Calculate_annualReturns(mean_daily_returns,std_daily_returns)\n",
    "print(\"mean daily returns: \",mean_daily_returns)\n",
    "print(\"StandardDeviation: \",std_daily_returns)\n",
    "print(\"Annual Mean: \",annual_mean)\n",
    "print(\"Annual Standard Deviation: \",annual_std)"
   ]
  },
  {
   "cell_type": "code",
   "execution_count": 4,
   "metadata": {},
   "outputs": [
    {
     "data": {
      "text/html": [
       "<div>\n",
       "<style scoped>\n",
       "    .dataframe tbody tr th:only-of-type {\n",
       "        vertical-align: middle;\n",
       "    }\n",
       "\n",
       "    .dataframe tbody tr th {\n",
       "        vertical-align: top;\n",
       "    }\n",
       "\n",
       "    .dataframe thead th {\n",
       "        text-align: right;\n",
       "    }\n",
       "</style>\n",
       "<table border=\"1\" class=\"dataframe\">\n",
       "  <thead>\n",
       "    <tr style=\"text-align: right;\">\n",
       "      <th></th>\n",
       "      <th>Name</th>\n",
       "      <th>Cap</th>\n",
       "      <th>meanDailyReturn</th>\n",
       "      <th>meanDailySTD</th>\n",
       "      <th>meanAnnualReturn</th>\n",
       "      <th>meanAnnualSTD</th>\n",
       "    </tr>\n",
       "    <tr>\n",
       "      <th>Name</th>\n",
       "      <th></th>\n",
       "      <th></th>\n",
       "      <th></th>\n",
       "      <th></th>\n",
       "      <th></th>\n",
       "      <th></th>\n",
       "    </tr>\n",
       "  </thead>\n",
       "  <tbody>\n",
       "    <tr>\n",
       "      <th>INFY</th>\n",
       "      <td>INFY</td>\n",
       "      <td>Large Cap</td>\n",
       "      <td>-0.000093</td>\n",
       "      <td>0.026341</td>\n",
       "      <td>-0.023522</td>\n",
       "      <td>0.418145</td>\n",
       "    </tr>\n",
       "  </tbody>\n",
       "</table>\n",
       "</div>"
      ],
      "text/plain": [
       "      Name        Cap  meanDailyReturn  meanDailySTD  meanAnnualReturn  \\\n",
       "Name                                                                     \n",
       "INFY  INFY  Large Cap        -0.000093      0.026341         -0.023522   \n",
       "\n",
       "      meanAnnualSTD  \n",
       "Name                 \n",
       "INFY       0.418145  "
      ]
     },
     "execution_count": 4,
     "metadata": {},
     "output_type": "execute_result"
    }
   ],
   "source": [
    "portfolio_df = pd.DataFrame([{\"Name\" : \"INFY\", \"Cap\" : \"Large Cap\", \n",
    "             \"meanDailyReturn\" : mean_daily_returns, \"meanDailySTD\" : std_daily_returns,\n",
    "             \"meanAnnualReturn\" : annual_mean, \"meanAnnualSTD\" : annual_std}])\n",
    "portfolio_df.set_index(portfolio_df.Name, inplace = True, drop = False)\n",
    "portfolio_df\n"
   ]
  },
  {
   "cell_type": "code",
   "execution_count": 9,
   "metadata": {},
   "outputs": [
    {
     "data": {
      "text/html": [
       "<div>\n",
       "<style scoped>\n",
       "    .dataframe tbody tr th:only-of-type {\n",
       "        vertical-align: middle;\n",
       "    }\n",
       "\n",
       "    .dataframe tbody tr th {\n",
       "        vertical-align: top;\n",
       "    }\n",
       "\n",
       "    .dataframe thead th {\n",
       "        text-align: right;\n",
       "    }\n",
       "</style>\n",
       "<table border=\"1\" class=\"dataframe\">\n",
       "  <thead>\n",
       "    <tr style=\"text-align: right;\">\n",
       "      <th></th>\n",
       "      <th>Name</th>\n",
       "      <th>Cap</th>\n",
       "      <th>meanDailyReturn</th>\n",
       "      <th>meanDailySTD</th>\n",
       "      <th>meanAnnualReturn</th>\n",
       "      <th>meanAnnualSTD</th>\n",
       "    </tr>\n",
       "    <tr>\n",
       "      <th>Name</th>\n",
       "      <th></th>\n",
       "      <th></th>\n",
       "      <th></th>\n",
       "      <th></th>\n",
       "      <th></th>\n",
       "      <th></th>\n",
       "    </tr>\n",
       "  </thead>\n",
       "  <tbody>\n",
       "    <tr>\n",
       "      <th>TCS</th>\n",
       "      <td>TCS</td>\n",
       "      <td>LARGE-CAP</td>\n",
       "      <td>0.000295</td>\n",
       "      <td>0.027079</td>\n",
       "      <td>0.074423</td>\n",
       "      <td>0.429873</td>\n",
       "    </tr>\n",
       "    <tr>\n",
       "      <th>adani</th>\n",
       "      <td>adani</td>\n",
       "      <td>LARGE-CAP</td>\n",
       "      <td>0.000240</td>\n",
       "      <td>0.019493</td>\n",
       "      <td>0.060376</td>\n",
       "      <td>0.309436</td>\n",
       "    </tr>\n",
       "    <tr>\n",
       "      <th>apollo</th>\n",
       "      <td>apollo</td>\n",
       "      <td>MID-CAP</td>\n",
       "      <td>-0.000255</td>\n",
       "      <td>0.019556</td>\n",
       "      <td>-0.064303</td>\n",
       "      <td>0.310445</td>\n",
       "    </tr>\n",
       "    <tr>\n",
       "      <th>mtree</th>\n",
       "      <td>mtree</td>\n",
       "      <td>MID-CAP</td>\n",
       "      <td>0.001558</td>\n",
       "      <td>0.021512</td>\n",
       "      <td>0.392570</td>\n",
       "      <td>0.341485</td>\n",
       "    </tr>\n",
       "    <tr>\n",
       "      <th>raymond</th>\n",
       "      <td>raymond</td>\n",
       "      <td>SMALL-CAP</td>\n",
       "      <td>0.000278</td>\n",
       "      <td>0.022919</td>\n",
       "      <td>0.070021</td>\n",
       "      <td>0.363834</td>\n",
       "    </tr>\n",
       "  </tbody>\n",
       "</table>\n",
       "</div>"
      ],
      "text/plain": [
       "            Name        Cap  meanDailyReturn  meanDailySTD  meanAnnualReturn  \\\n",
       "Name                                                                           \n",
       "TCS          TCS  LARGE-CAP         0.000295      0.027079          0.074423   \n",
       "adani      adani  LARGE-CAP         0.000240      0.019493          0.060376   \n",
       "apollo    apollo    MID-CAP        -0.000255      0.019556         -0.064303   \n",
       "mtree      mtree    MID-CAP         0.001558      0.021512          0.392570   \n",
       "raymond  raymond  SMALL-CAP         0.000278      0.022919          0.070021   \n",
       "\n",
       "         meanAnnualSTD  \n",
       "Name                    \n",
       "TCS           0.429873  \n",
       "adani         0.309436  \n",
       "apollo        0.310445  \n",
       "mtree         0.341485  \n",
       "raymond       0.363834  "
      ]
     },
     "execution_count": 9,
     "metadata": {},
     "output_type": "execute_result"
    }
   ],
   "source": [
    "portfolio_tcs=display_portfolio('Large_Cap/TCS.csv','TCS','LARGE-CAP')\n",
    "portfolio_ad=display_portfolio('Large_Cap/ADANIPORTS.csv','adani','LARGE-CAP')\n",
    "portfolio_apollo=display_portfolio('Mid_Cap/APOLLOTYRE.csv','apollo','MID-CAP')\n",
    "portfolio_mtree=display_portfolio('Mid_Cap/MINDTREE.csv','mtree','MID-CAP')\n",
    "portfolio_ray=display_portfolio('Small_Cap/RAYMOND.csv','raymond','SMALL-CAP')\n",
    "portfolio=pd.concat([portfolio_tcs,portfolio_ad,portfolio_apollo,portfolio_mtree,portfolio_ray],axis=0,sort=False)\n",
    "portfolio"
   ]
  },
  {
   "cell_type": "markdown",
   "metadata": {},
   "source": [
    "<b>Now, we need to diversify our portfolio. Build your own portfolio by choosing any 5 stocks, preferably of different sectors and different caps. Assume that all 5 have the same weightage, i.e. 20% . Now calculate the annual returns and volatility of the entire portfolio ( Hint : Don't forget to use the covariance )<b>"
   ]
  },
  {
   "cell_type": "code",
   "execution_count": 11,
   "metadata": {},
   "outputs": [
    {
     "data": {
      "text/html": [
       "<div>\n",
       "<style scoped>\n",
       "    .dataframe tbody tr th:only-of-type {\n",
       "        vertical-align: middle;\n",
       "    }\n",
       "\n",
       "    .dataframe tbody tr th {\n",
       "        vertical-align: top;\n",
       "    }\n",
       "\n",
       "    .dataframe thead th {\n",
       "        text-align: right;\n",
       "    }\n",
       "</style>\n",
       "<table border=\"1\" class=\"dataframe\">\n",
       "  <thead>\n",
       "    <tr style=\"text-align: right;\">\n",
       "      <th></th>\n",
       "      <th>TCS</th>\n",
       "      <th>adani</th>\n",
       "      <th>apollo</th>\n",
       "      <th>mtree</th>\n",
       "      <th>raymond</th>\n",
       "    </tr>\n",
       "  </thead>\n",
       "  <tbody>\n",
       "    <tr>\n",
       "      <th>0</th>\n",
       "      <td>2365.10</td>\n",
       "      <td>356.20</td>\n",
       "      <td>231.90</td>\n",
       "      <td>509.45</td>\n",
       "      <td>772.80</td>\n",
       "    </tr>\n",
       "    <tr>\n",
       "      <th>1</th>\n",
       "      <td>2429.15</td>\n",
       "      <td>354.50</td>\n",
       "      <td>234.40</td>\n",
       "      <td>511.30</td>\n",
       "      <td>785.00</td>\n",
       "    </tr>\n",
       "    <tr>\n",
       "      <th>2</th>\n",
       "      <td>2455.35</td>\n",
       "      <td>348.55</td>\n",
       "      <td>237.35</td>\n",
       "      <td>506.35</td>\n",
       "      <td>783.65</td>\n",
       "    </tr>\n",
       "    <tr>\n",
       "      <th>3</th>\n",
       "      <td>2536.20</td>\n",
       "      <td>347.90</td>\n",
       "      <td>232.65</td>\n",
       "      <td>492.90</td>\n",
       "      <td>746.95</td>\n",
       "    </tr>\n",
       "    <tr>\n",
       "      <th>4</th>\n",
       "      <td>2507.15</td>\n",
       "      <td>349.45</td>\n",
       "      <td>234.65</td>\n",
       "      <td>497.50</td>\n",
       "      <td>723.10</td>\n",
       "    </tr>\n",
       "    <tr>\n",
       "      <th>...</th>\n",
       "      <td>...</td>\n",
       "      <td>...</td>\n",
       "      <td>...</td>\n",
       "      <td>...</td>\n",
       "      <td>...</td>\n",
       "    </tr>\n",
       "    <tr>\n",
       "      <th>493</th>\n",
       "      <td>2151.95</td>\n",
       "      <td>372.55</td>\n",
       "      <td>186.20</td>\n",
       "      <td>979.10</td>\n",
       "      <td>779.35</td>\n",
       "    </tr>\n",
       "    <tr>\n",
       "      <th>494</th>\n",
       "      <td>2152.85</td>\n",
       "      <td>364.75</td>\n",
       "      <td>NaN</td>\n",
       "      <td>NaN</td>\n",
       "      <td>NaN</td>\n",
       "    </tr>\n",
       "    <tr>\n",
       "      <th>495</th>\n",
       "      <td>2172.55</td>\n",
       "      <td>NaN</td>\n",
       "      <td>NaN</td>\n",
       "      <td>NaN</td>\n",
       "      <td>NaN</td>\n",
       "    </tr>\n",
       "    <tr>\n",
       "      <th>496</th>\n",
       "      <td>2135.80</td>\n",
       "      <td>NaN</td>\n",
       "      <td>NaN</td>\n",
       "      <td>NaN</td>\n",
       "      <td>NaN</td>\n",
       "    </tr>\n",
       "    <tr>\n",
       "      <th>497</th>\n",
       "      <td>2128.75</td>\n",
       "      <td>NaN</td>\n",
       "      <td>NaN</td>\n",
       "      <td>NaN</td>\n",
       "      <td>NaN</td>\n",
       "    </tr>\n",
       "  </tbody>\n",
       "</table>\n",
       "<p>498 rows × 5 columns</p>\n",
       "</div>"
      ],
      "text/plain": [
       "         TCS   adani  apollo   mtree  raymond\n",
       "0    2365.10  356.20  231.90  509.45   772.80\n",
       "1    2429.15  354.50  234.40  511.30   785.00\n",
       "2    2455.35  348.55  237.35  506.35   783.65\n",
       "3    2536.20  347.90  232.65  492.90   746.95\n",
       "4    2507.15  349.45  234.65  497.50   723.10\n",
       "..       ...     ...     ...     ...      ...\n",
       "493  2151.95  372.55  186.20  979.10   779.35\n",
       "494  2152.85  364.75     NaN     NaN      NaN\n",
       "495  2172.55     NaN     NaN     NaN      NaN\n",
       "496  2135.80     NaN     NaN     NaN      NaN\n",
       "497  2128.75     NaN     NaN     NaN      NaN\n",
       "\n",
       "[498 rows x 5 columns]"
      ]
     },
     "execution_count": 11,
     "metadata": {},
     "output_type": "execute_result"
    }
   ],
   "source": [
    "stocks=portfolio.index\n",
    "\n",
    "portfolio_df=pd.DataFrame()\n",
    "filenames=['Large_Cap/TCS.csv','Large_Cap/ADANIPORTS.csv','Mid_Cap/APOLLOTYRE.csv','Mid_Cap/MINDTREE.csv','Small_Cap/RAYMOND.csv']\n",
    "def define_df(filenames):\n",
    "    i=0\n",
    "    for stock in stocks:\n",
    "        portfolio_df[stock]=pd.read_csv(filenames[i])['Close Price']\n",
    "        i=i+1\n",
    "    return portfolio_df\n",
    "portfolio_df=define_df(filenames)  \n",
    "portfolio_df\n"
   ]
  },
  {
   "cell_type": "code",
   "execution_count": 12,
   "metadata": {},
   "outputs": [
    {
     "name": "stdout",
     "output_type": "stream",
     "text": [
      "0.10590337574626442\n"
     ]
    }
   ],
   "source": [
    "equal_weights=[0.2,0.2,0.2,0.2,0.2]\n",
    "def overall_annualReturns(portfolio_df,weights):\n",
    "    return np.sum(portfolio_df.pct_change().mean()* weights)*252\n",
    "print(overall_annualReturns(portfolio_df,equal_weights))"
   ]
  },
  {
   "cell_type": "code",
   "execution_count": 13,
   "metadata": {},
   "outputs": [
    {
     "data": {
      "text/html": [
       "<div>\n",
       "<style scoped>\n",
       "    .dataframe tbody tr th:only-of-type {\n",
       "        vertical-align: middle;\n",
       "    }\n",
       "\n",
       "    .dataframe tbody tr th {\n",
       "        vertical-align: top;\n",
       "    }\n",
       "\n",
       "    .dataframe thead th {\n",
       "        text-align: right;\n",
       "    }\n",
       "</style>\n",
       "<table border=\"1\" class=\"dataframe\">\n",
       "  <thead>\n",
       "    <tr style=\"text-align: right;\">\n",
       "      <th></th>\n",
       "      <th>TCS</th>\n",
       "      <th>adani</th>\n",
       "      <th>apollo</th>\n",
       "      <th>mtree</th>\n",
       "      <th>raymond</th>\n",
       "    </tr>\n",
       "  </thead>\n",
       "  <tbody>\n",
       "    <tr>\n",
       "      <th>TCS</th>\n",
       "      <td>0.000733</td>\n",
       "      <td>-0.000039</td>\n",
       "      <td>0.000031</td>\n",
       "      <td>0.000095</td>\n",
       "      <td>0.000009</td>\n",
       "    </tr>\n",
       "    <tr>\n",
       "      <th>adani</th>\n",
       "      <td>-0.000039</td>\n",
       "      <td>0.000378</td>\n",
       "      <td>0.000119</td>\n",
       "      <td>0.000048</td>\n",
       "      <td>0.000136</td>\n",
       "    </tr>\n",
       "    <tr>\n",
       "      <th>apollo</th>\n",
       "      <td>0.000031</td>\n",
       "      <td>0.000119</td>\n",
       "      <td>0.000379</td>\n",
       "      <td>0.000020</td>\n",
       "      <td>0.000166</td>\n",
       "    </tr>\n",
       "    <tr>\n",
       "      <th>mtree</th>\n",
       "      <td>0.000095</td>\n",
       "      <td>0.000048</td>\n",
       "      <td>0.000020</td>\n",
       "      <td>0.000459</td>\n",
       "      <td>0.000041</td>\n",
       "    </tr>\n",
       "    <tr>\n",
       "      <th>raymond</th>\n",
       "      <td>0.000009</td>\n",
       "      <td>0.000136</td>\n",
       "      <td>0.000166</td>\n",
       "      <td>0.000041</td>\n",
       "      <td>0.000521</td>\n",
       "    </tr>\n",
       "  </tbody>\n",
       "</table>\n",
       "</div>"
      ],
      "text/plain": [
       "              TCS     adani    apollo     mtree   raymond\n",
       "TCS      0.000733 -0.000039  0.000031  0.000095  0.000009\n",
       "adani   -0.000039  0.000378  0.000119  0.000048  0.000136\n",
       "apollo   0.000031  0.000119  0.000379  0.000020  0.000166\n",
       "mtree    0.000095  0.000048  0.000020  0.000459  0.000041\n",
       "raymond  0.000009  0.000136  0.000166  0.000041  0.000521"
      ]
     },
     "execution_count": 13,
     "metadata": {},
     "output_type": "execute_result"
    }
   ],
   "source": [
    "portfolio_covariance=portfolio_df.pct_change().cov()\n",
    "portfolio_covariance"
   ]
  },
  {
   "cell_type": "code",
   "execution_count": 14,
   "metadata": {},
   "outputs": [
    {
     "data": {
      "text/plain": [
       "0.05"
      ]
     },
     "execution_count": 14,
     "metadata": {},
     "output_type": "execute_result"
    }
   ],
   "source": [
    "def portfolio_annual_volatility( portfolio, weights ): \n",
    "    return np.sqrt(\n",
    "        np.dot( \n",
    "            weights.T, \n",
    "            np.dot( portfolio.pct_change().cov(), weights )\n",
    "        ) \n",
    "        * np.sqrt(252)\n",
    "    )\n",
    "\n",
    "round( portfolio_annual_volatility(portfolio_df, np.array(equal_weights)), 2 )\n"
   ]
  },
  {
   "cell_type": "code",
   "execution_count": 15,
   "metadata": {},
   "outputs": [
    {
     "data": {
      "text/plain": [
       "2.178884376995363"
      ]
     },
     "execution_count": 15,
     "metadata": {},
     "output_type": "execute_result"
    }
   ],
   "source": [
    "def portfolio_sharpe(portfolio_df,weights):\n",
    "    return overall_annualReturns(portfolio_df,weights)/portfolio_annual_volatility(portfolio_df,np.array(weights))\n",
    "sharpe_ratio=portfolio_sharpe(portfolio_df,equal_weights)\n",
    "sharpe_ratio"
   ]
  },
  {
   "cell_type": "markdown",
   "metadata": {},
   "source": [
    "<b>Preparing a scatter plot for differing weights of the individual stocks in the portfolio , the axes being the returns and volatility. Colouring the data points based on the Sharpe Ratio ( Returns/Volatility) of that particular portfolio.</b>"
   ]
  },
  {
   "cell_type": "code",
   "execution_count": 16,
   "metadata": {},
   "outputs": [
    {
     "data": {
      "text/plain": [
       "array([0.299, 0.072, 0.294, 0.248, 0.087])"
      ]
     },
     "execution_count": 16,
     "metadata": {},
     "output_type": "execute_result"
    }
   ],
   "source": [
    "def normalize_weights( weights ):\n",
    "    for i in range(0,5):\n",
    "        weights  = np.round( weights, 3 ) \n",
    "        weights /= weights.sum()\n",
    "    return np.asarray(weights)\n",
    "    \n",
    "def random_weights():\n",
    "    weights  = np.random.rand(portfolio_df.shape[1])\n",
    "    return normalize_weights( weights )\n",
    "\n",
    "random_weights()\n",
    "\n"
   ]
  },
  {
   "cell_type": "code",
   "execution_count": 17,
   "metadata": {},
   "outputs": [
    {
     "data": {
      "text/html": [
       "<div>\n",
       "<style scoped>\n",
       "    .dataframe tbody tr th:only-of-type {\n",
       "        vertical-align: middle;\n",
       "    }\n",
       "\n",
       "    .dataframe tbody tr th {\n",
       "        vertical-align: top;\n",
       "    }\n",
       "\n",
       "    .dataframe thead th {\n",
       "        text-align: right;\n",
       "    }\n",
       "</style>\n",
       "<table border=\"1\" class=\"dataframe\">\n",
       "  <thead>\n",
       "    <tr style=\"text-align: right;\">\n",
       "      <th></th>\n",
       "      <th>weights</th>\n",
       "      <th>returns</th>\n",
       "      <th>volatility</th>\n",
       "      <th>sharpe</th>\n",
       "    </tr>\n",
       "  </thead>\n",
       "  <tbody>\n",
       "    <tr>\n",
       "      <th>0</th>\n",
       "      <td>[0.17917917917917917, 0.2902902902902903, 0.31...</td>\n",
       "      <td>0.055804</td>\n",
       "      <td>0.049835</td>\n",
       "      <td>1.119785</td>\n",
       "    </tr>\n",
       "    <tr>\n",
       "      <th>1</th>\n",
       "      <td>[0.099, 0.264, 0.178, 0.187, 0.272]</td>\n",
       "      <td>0.103569</td>\n",
       "      <td>0.050422</td>\n",
       "      <td>2.054050</td>\n",
       "    </tr>\n",
       "    <tr>\n",
       "      <th>2</th>\n",
       "      <td>[0.24200000000000002, 0.18000000000000002, 0.2...</td>\n",
       "      <td>0.087937</td>\n",
       "      <td>0.049255</td>\n",
       "      <td>1.785356</td>\n",
       "    </tr>\n",
       "    <tr>\n",
       "      <th>3</th>\n",
       "      <td>[0.2377622377622378, 0.05694305694305695, 0.25...</td>\n",
       "      <td>0.105784</td>\n",
       "      <td>0.051215</td>\n",
       "      <td>2.065503</td>\n",
       "    </tr>\n",
       "    <tr>\n",
       "      <th>4</th>\n",
       "      <td>[0.159, 0.255, 0.217, 0.153, 0.216]</td>\n",
       "      <td>0.087877</td>\n",
       "      <td>0.049067</td>\n",
       "      <td>1.790955</td>\n",
       "    </tr>\n",
       "    <tr>\n",
       "      <th>...</th>\n",
       "      <td>...</td>\n",
       "      <td>...</td>\n",
       "      <td>...</td>\n",
       "      <td>...</td>\n",
       "    </tr>\n",
       "    <tr>\n",
       "      <th>2495</th>\n",
       "      <td>[0.336, 0.183, 0.283, 0.129, 0.069]</td>\n",
       "      <td>0.072964</td>\n",
       "      <td>0.052300</td>\n",
       "      <td>1.395108</td>\n",
       "    </tr>\n",
       "    <tr>\n",
       "      <th>2496</th>\n",
       "      <td>[0.115, 0.341, 0.361, 0.157, 0.026]</td>\n",
       "      <td>0.068939</td>\n",
       "      <td>0.050437</td>\n",
       "      <td>1.366842</td>\n",
       "    </tr>\n",
       "    <tr>\n",
       "      <th>2497</th>\n",
       "      <td>[0.131, 0.171, 0.002, 0.319, 0.377]</td>\n",
       "      <td>0.170291</td>\n",
       "      <td>0.054106</td>\n",
       "      <td>3.147376</td>\n",
       "    </tr>\n",
       "    <tr>\n",
       "      <th>2498</th>\n",
       "      <td>[0.059, 0.194, 0.244, 0.208, 0.295]</td>\n",
       "      <td>0.101957</td>\n",
       "      <td>0.051764</td>\n",
       "      <td>1.969638</td>\n",
       "    </tr>\n",
       "    <tr>\n",
       "      <th>2499</th>\n",
       "      <td>[0.3053053053053053, 0.11511511511511512, 0.23...</td>\n",
       "      <td>0.113700</td>\n",
       "      <td>0.051477</td>\n",
       "      <td>2.208738</td>\n",
       "    </tr>\n",
       "  </tbody>\n",
       "</table>\n",
       "<p>2500 rows × 4 columns</p>\n",
       "</div>"
      ],
      "text/plain": [
       "                                                weights   returns  volatility  \\\n",
       "0     [0.17917917917917917, 0.2902902902902903, 0.31...  0.055804    0.049835   \n",
       "1                   [0.099, 0.264, 0.178, 0.187, 0.272]  0.103569    0.050422   \n",
       "2     [0.24200000000000002, 0.18000000000000002, 0.2...  0.087937    0.049255   \n",
       "3     [0.2377622377622378, 0.05694305694305695, 0.25...  0.105784    0.051215   \n",
       "4                   [0.159, 0.255, 0.217, 0.153, 0.216]  0.087877    0.049067   \n",
       "...                                                 ...       ...         ...   \n",
       "2495                [0.336, 0.183, 0.283, 0.129, 0.069]  0.072964    0.052300   \n",
       "2496                [0.115, 0.341, 0.361, 0.157, 0.026]  0.068939    0.050437   \n",
       "2497                [0.131, 0.171, 0.002, 0.319, 0.377]  0.170291    0.054106   \n",
       "2498                [0.059, 0.194, 0.244, 0.208, 0.295]  0.101957    0.051764   \n",
       "2499  [0.3053053053053053, 0.11511511511511512, 0.23...  0.113700    0.051477   \n",
       "\n",
       "        sharpe  \n",
       "0     1.119785  \n",
       "1     2.054050  \n",
       "2     1.785356  \n",
       "3     2.065503  \n",
       "4     1.790955  \n",
       "...        ...  \n",
       "2495  1.395108  \n",
       "2496  1.366842  \n",
       "2497  3.147376  \n",
       "2498  1.969638  \n",
       "2499  2.208738  \n",
       "\n",
       "[2500 rows x 4 columns]"
      ]
     },
     "execution_count": 17,
     "metadata": {},
     "output_type": "execute_result"
    }
   ],
   "source": [
    "scatter_data = pd.DataFrame()\n",
    "for i in range(0, 2500):\n",
    "    weights    = random_weights()\n",
    "    returns    = overall_annualReturns( portfolio_df, weights )\n",
    "    volatility = portfolio_annual_volatility( portfolio_df, weights )\n",
    "    sharpe     = returns / volatility\n",
    "    scatter_data = scatter_data.append([{\n",
    "        \"weights\":    weights,\n",
    "        \"returns\":    returns,\n",
    "        \"volatility\": volatility,\n",
    "        \"sharpe\":     sharpe\n",
    "    }])\n",
    "\n",
    "scatter_data.reset_index(inplace=True, drop=True)\n",
    "scatter_data\n"
   ]
  },
  {
   "cell_type": "markdown",
   "metadata": {},
   "source": [
    "<b>Mark the 2 portfolios where -</b>\n",
    "\n",
    ">Portfolio 1 - The Sharpe ratio is the highest\n",
    "\n",
    ">Portfolio 2 - The volatility is the lowest."
   ]
  },
  {
   "cell_type": "code",
   "execution_count": 18,
   "metadata": {},
   "outputs": [
    {
     "data": {
      "text/plain": [
       "weights       [0.06, 0.195, 0.047, 0.668, 0.03]\n",
       "returns                                 0.27538\n",
       "volatility                            0.0629537\n",
       "sharpe                                  4.37432\n",
       "Name: 1615, dtype: object"
      ]
     },
     "execution_count": 18,
     "metadata": {},
     "output_type": "execute_result"
    }
   ],
   "source": [
    "point_max_sharpe=scatter_data.loc[scatter_data['sharpe'].idxmax()]\n",
    "point_max_sharpe"
   ]
  },
  {
   "cell_type": "code",
   "execution_count": 19,
   "metadata": {},
   "outputs": [
    {
     "data": {
      "text/plain": [
       "weights       [0.149, 0.26, 0.249, 0.236, 0.106]\n",
       "returns                                 0.110073\n",
       "volatility                             0.0479584\n",
       "sharpe                                   2.29517\n",
       "Name: 222, dtype: object"
      ]
     },
     "execution_count": 19,
     "metadata": {},
     "output_type": "execute_result"
    }
   ],
   "source": [
    "point_min_vol=scatter_data.loc[scatter_data['volatility'].idxmin()]\n",
    "point_min_vol"
   ]
  },
  {
   "cell_type": "code",
   "execution_count": 20,
   "metadata": {},
   "outputs": [
    {
     "data": {
      "image/png": "[encoded data removed]",
      "text/plain": [
       "<Figure size 1440x720 with 2 Axes>"
      ]
     },
     "metadata": {
      "needs_background": "light"
     },
     "output_type": "display_data"
    }
   ],
   "source": [
    "fig,ax=plt.subplots(figsize=(20,10),nrows=1,ncols=1)\n",
    "plt.scatter(scatter_data.volatility,scatter_data.returns,c=scatter_data.sharpe)\n",
    "plt.title('Portfolo Weightings - Monty-Carlo Simulation')\n",
    "plt.ylabel('Annualized Return')\n",
    "plt.xlabel('Annualized Volatility')\n",
    "plt.colorbar()\n",
    "plt.scatter( point_max_sharpe.volatility,     point_max_sharpe.returns,     marker=(5,1,0), c='b', s=200 )\n",
    "plt.scatter( point_min_vol.volatility, point_min_vol.returns, marker=(5,1,0), c='r', s=200 )\n",
    "plt.show()"
   ]
  },
  {
   "cell_type": "code",
   "execution_count": null,
   "metadata": {},
   "outputs": [],
   "source": []
  }
 ],
 "metadata": {
  "kernelspec": {
   "display_name": "Python 3",
   "language": "python",
   "name": "python3"
  },
  "language_info": {
   "codemirror_mode": {
    "name": "ipython",
    "version": 3
   },
   "file_extension": ".py",
   "mimetype": "text/x-python",
   "name": "python",
   "nbconvert_exporter": "python",
   "pygments_lexer": "ipython3",
   "version": "3.7.5"
  }
 },
 "nbformat": 4,
 "nbformat_minor": 2
}
